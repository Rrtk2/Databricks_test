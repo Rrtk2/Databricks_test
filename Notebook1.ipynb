{
 "cells": [
  {
   "cell_type": "markdown",
   "metadata": {
    "application/vnd.databricks.v1+cell": {
     "cellMetadata": {},
     "inputWidgets": {},
     "nuid": "989c9fb1-293f-4166-b7e7-ec27ebf0091f",
     "showTitle": false,
     "tableResultSettingsMap": {},
     "title": ""
    }
   },
   "source": [
    "Python databricks\n",
    "="
   ]
  },
  {
   "cell_type": "code",
   "execution_count": 0,
   "metadata": {
    "application/vnd.databricks.v1+cell": {
     "cellMetadata": {},
     "inputWidgets": {},
     "nuid": "7dfc9546-4171-48ae-adf2-9038b431f74c",
     "showTitle": false,
     "tableResultSettingsMap": {},
     "title": ""
    }
   },
   "outputs": [],
   "source": [
    "%python\n",
    "# ==========================================\n",
    "# File: iris_pca_analysis.py\n",
    "# Purpose: Perform PCA on the iris dataset\n",
    "# Author: Rick Reijnders\n",
    "# Summary: This script exports the iris dataset, performs PCA, saves a PCA plot, and extracts the most important features.\n",
    "# Input Variables:\n",
    "#   - iris: scikit-learn dataset with flower measurements\n",
    "# Output Files:\n",
    "#   - iris.csv: saved iris dataset\n",
    "#   - iris_pca_plot.png: PCA plot image\n",
    "#   - important_features: list of most important variables\n",
    "# ==========================================\n",
    "\n",
    "import pandas as pd\n",
    "import matplotlib.pyplot as plt\n",
    "from sklearn.datasets import load_iris\n",
    "from sklearn.decomposition import PCA\n",
    "from sklearn.preprocessing import StandardScaler\n",
    "\n",
    "# Load iris dataset\n",
    "iris_data = load_iris()\n",
    "X = pd.DataFrame(iris_data.data, columns=iris_data.feature_names)\n",
    "y = pd.Series(iris_data.target, name='species')\n",
    "\n",
    "# Export to CSV\n",
    "iris_df = pd.concat([X, y], axis=1)\n",
    "iris_df.to_csv(\"iris.csv\", index=False)\n",
    "\n",
    "# Standardize features\n",
    "scaler = StandardScaler()\n",
    "X_scaled = scaler.fit_transform(X)\n",
    "\n",
    "# Perform PCA\n",
    "pca = PCA(n_components=2)\n",
    "X_pca = pca.fit_transform(X_scaled)\n",
    "\n",
    "# Save PCA plot\n",
    "plt.figure(figsize=(8, 6))\n",
    "scatter = plt.scatter(X_pca[:, 0], X_pca[:, 1], c=y, cmap='viridis', edgecolor='k')\n",
    "plt.xlabel(\"PC1\")\n",
    "plt.ylabel(\"PC2\")\n",
    "plt.title(\"PCA of Iris Dataset\")\n",
    "plt.legend(handles=scatter.legend_elements()[0], labels=iris_data.target_names)\n",
    "plt.grid(True)\n",
    "plt.tight_layout()\n",
    "plt.savefig(\"iris_pca_plot.png\", dpi=300)\n",
    "plt.close()\n",
    "\n",
    "# Get most important features from PC1\n",
    "loadings = pd.Series(abs(pca.components_[0]), index=iris_data.feature_names)\n",
    "important_features = loadings.sort_values(ascending=False).index.tolist()\n",
    "\n",
    "# Print results\n",
    "print(\"Most important features (PC1):\")\n",
    "print(important_features)\n",
    "\n",
    "# Improvements to Implement:\n",
    "# - Add explained variance plot\n",
    "# - Automate top-N feature selection\n",
    "# - Enable CLI arguments for file paths\n"
   ]
  }
 ],
 "metadata": {
  "application/vnd.databricks.v1+notebook": {
   "computePreferences": null,
   "dashboards": [],
   "environmentMetadata": {
    "base_environment": "",
    "environment_version": "2"
   },
   "inputWidgetPreferences": null,
   "language": "r",
   "notebookMetadata": {
    "pythonIndentUnit": 4
   },
   "notebookName": "Notebook1",
   "widgets": {}
  },
  "language_info": {
   "name": "r"
  }
 },
 "nbformat": 4,
 "nbformat_minor": 0
}
